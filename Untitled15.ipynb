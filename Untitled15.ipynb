{
  "nbformat": 4,
  "nbformat_minor": 0,
  "metadata": {
    "colab": {
      "provenance": [],
      "authorship_tag": "ABX9TyOCkyNfcRplqqDJgNrVI6zK",
      "include_colab_link": true
    },
    "kernelspec": {
      "name": "python3",
      "display_name": "Python 3"
    },
    "language_info": {
      "name": "python"
    }
  },
  "cells": [
    {
      "cell_type": "markdown",
      "metadata": {
        "id": "view-in-github",
        "colab_type": "text"
      },
      "source": [
        "<a href=\"https://colab.research.google.com/github/Omdena-Bhutan/02-data-structures-assignment-team-3/blob/main/Untitled15.ipynb\" target=\"_parent\"><img src=\"https://colab.research.google.com/assets/colab-badge.svg\" alt=\"Open In Colab\"/></a>"
      ]
    },
    {
      "cell_type": "code",
      "execution_count": 2,
      "metadata": {
        "colab": {
          "base_uri": "https://localhost:8080/"
        },
        "id": "BR1xg8ziRC00",
        "outputId": "ab7e1051-940b-4419-fb2c-b504e9a11b99"
      },
      "outputs": [
        {
          "output_type": "stream",
          "name": "stdout",
          "text": [
            "Character: Alistair the Brave, Level: 1\n",
            "\n",
            "Updated Character Profile:\n",
            "{'name': 'Alistair the Brave', 'level': 1, 'health': 85, 'mana': 50, 'gold': 50.75, 'is_alive': True, 'experience': 0}\n"
          ]
        }
      ],
      "source": [
        "# Part 1: Character Profile\n",
        "\n",
        "character_profile = {\n",
        "    'name': 'Alistair the Brave',\n",
        "    'level': 1,\n",
        "    'health': 100,\n",
        "    'mana': 50,\n",
        "    'gold': 50.75,\n",
        "    'is_alive': True\n",
        "}\n",
        "\n",
        "print(f\"Character: {character_profile['name']}, Level: {character_profile['level']}\")\n",
        "\n",
        "character_profile['health'] = 85\n",
        "\n",
        "character_profile['experience'] = 0\n",
        "\n",
        "print(\"\\nUpdated Character Profile:\")\n",
        "print(character_profile)"
      ]
    },
    {
      "cell_type": "code",
      "source": [
        "#Part 2: Inventory System\n",
        "\n",
        "inventory = ['sword', 'shield', 'health potion']\n",
        "\n",
        "inventory.append('mana potion')\n",
        "\n",
        "inventory.remove('shield')\n",
        "\n",
        "print(\"\\nInventory Items:\")\n",
        "for item in inventory:\n",
        "    print(f\"- {item}\")"
      ],
      "metadata": {
        "colab": {
          "base_uri": "https://localhost:8080/"
        },
        "id": "-LJmGWOKRa1r",
        "outputId": "40037b5e-5ae3-467a-db93-bb0d5c92a89a"
      },
      "execution_count": 3,
      "outputs": [
        {
          "output_type": "stream",
          "name": "stdout",
          "text": [
            "\n",
            "Inventory Items:\n",
            "- sword\n",
            "- health potion\n",
            "- mana potion\n"
          ]
        }
      ]
    },
    {
      "cell_type": "code",
      "source": [
        "# Part 3: Character Stats\n",
        "\n",
        "base_stats = (10, 8, 12)\n",
        "\n",
        "print(\"\\nTuples are ideal for base stats because they are immutable and prevent accidental changes.\")\n",
        "\n",
        "print(f\"Intelligence: {base_stats[2]}\")\n",
        "\n",
        "try:\n",
        "    base_stats[0] = 15\n",
        "except TypeError as e:\n",
        "    print(\"\\nError when trying to modify tuple:\")\n",
        "    print(e)"
      ],
      "metadata": {
        "colab": {
          "base_uri": "https://localhost:8080/"
        },
        "id": "QVxrcTbvRm-E",
        "outputId": "43e17719-5a36-46b2-89a6-04eb314eacf7"
      },
      "execution_count": 4,
      "outputs": [
        {
          "output_type": "stream",
          "name": "stdout",
          "text": [
            "\n",
            "Tuples are ideal for base stats because they are immutable and prevent accidental changes.\n",
            "Intelligence: 12\n",
            "\n",
            "Error when trying to modify tuple:\n",
            "'tuple' object does not support item assignment\n"
          ]
        }
      ]
    },
    {
      "cell_type": "code",
      "source": [
        "# Part 4: Quest Log\n",
        "\n",
        "quest_log = {'Defeat the Goblin King', 'Find the Lost Amulet'}\n",
        "\n",
        "quest_log.add('Deliver the Old Scroll')\n",
        "\n",
        "quest_log.add('Defeat the Goblin King')\n",
        "\n",
        "quest_log.remove('Find the Lost Amulet')\n",
        "\n",
        "print(\"\\nActive Quests:\")\n",
        "print(quest_log)"
      ],
      "metadata": {
        "colab": {
          "base_uri": "https://localhost:8080/"
        },
        "id": "0GdeXq2aR0FM",
        "outputId": "50a2b9a7-8ec9-4a9a-e3fc-b5968bb77421"
      },
      "execution_count": 5,
      "outputs": [
        {
          "output_type": "stream",
          "name": "stdout",
          "text": [
            "\n",
            "Active Quests:\n",
            "{'Defeat the Goblin King', 'Deliver the Old Scroll'}\n"
          ]
        }
      ]
    },
    {
      "cell_type": "code",
      "source": [
        "# Part 5: Putting it all together\n",
        "\n",
        "character_sheet = {\n",
        "    'profile': character_profile,\n",
        "    'inventory': inventory,\n",
        "    'stats': base_stats,\n",
        "    'quests': quest_log\n",
        "}\n",
        "\n",
        "print(\"\\nComplete Character Sheet:\")\n",
        "print(character_sheet)"
      ],
      "metadata": {
        "colab": {
          "base_uri": "https://localhost:8080/"
        },
        "id": "C8_CWy6BSAD9",
        "outputId": "ea3df8cf-7e34-4e47-e12e-d3cf0bc35709"
      },
      "execution_count": 6,
      "outputs": [
        {
          "output_type": "stream",
          "name": "stdout",
          "text": [
            "\n",
            "Complete Character Sheet:\n",
            "{'profile': {'name': 'Alistair the Brave', 'level': 1, 'health': 85, 'mana': 50, 'gold': 50.75, 'is_alive': True, 'experience': 0}, 'inventory': ['sword', 'health potion', 'mana potion'], 'stats': (10, 8, 12), 'quests': {'Defeat the Goblin King', 'Deliver the Old Scroll'}}\n"
          ]
        }
      ]
    }
  ]
}